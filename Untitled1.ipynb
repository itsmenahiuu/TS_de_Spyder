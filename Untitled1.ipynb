{
 "cells": [
  {
   "cell_type": "markdown",
   "id": "d9351eee-1a30-4141-8cc9-8d27513de5fb",
   "metadata": {},
   "source": [
    "$$\n",
    "\\begin{array}{|c|c|c|}\n",
    "\\hline\n",
    "\\textbf{Estimación de Amplitud} & s_a & v_a \\\\ \n",
    "\\hline\n",
    "\\text{Rectangular} & s_a & v_a \\\\ \n",
    "\\hline\n",
    "\\text{Flat-top} & s_a & v_a \\\\ \n",
    "\\hline\n",
    "\\text{Blackman} & s_a & v_a \\\\ \n",
    "\\hline\n",
    "\\text{Hamming} & s_a & v_a \\\\ \n",
    "\\hline\n",
    "\\end{array}\n",
    "$$"
   ]
  },
  {
   "cell_type": "code",
   "execution_count": null,
   "id": "f2e94e97-3309-4f57-9b53-7db598643a52",
   "metadata": {},
   "outputs": [],
   "source": []
  },
  {
   "cell_type": "code",
   "execution_count": null,
   "id": "c355169c-a9dd-45da-89e8-573642012d40",
   "metadata": {},
   "outputs": [],
   "source": []
  }
 ],
 "metadata": {
  "kernelspec": {
   "display_name": "Python 3 (ipykernel)",
   "language": "python",
   "name": "python3"
  },
  "language_info": {
   "codemirror_mode": {
    "name": "ipython",
    "version": 3
   },
   "file_extension": ".py",
   "mimetype": "text/x-python",
   "name": "python",
   "nbconvert_exporter": "python",
   "pygments_lexer": "ipython3",
   "version": "3.13.5"
  }
 },
 "nbformat": 4,
 "nbformat_minor": 5
}

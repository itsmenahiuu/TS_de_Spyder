{
 "cells": [
  {
   "cell_type": "markdown",
   "id": "8f126754-a150-41c2-afe2-30c2626bbf4d",
   "metadata": {},
   "source": [
    "# TS3"
   ]
  },
  {
   "cell_type": "markdown",
   "id": "a49e380f-11bd-4733-aecb-80d28b8bf6eb",
   "metadata": {},
   "source": []
  }
 ],
 "metadata": {
  "kernelspec": {
   "display_name": "Python 3 (ipykernel)",
   "language": "python",
   "name": "python3"
  },
  "language_info": {
   "codemirror_mode": {
    "name": "ipython",
    "version": 3
   },
   "file_extension": ".py",
   "mimetype": "text/x-python",
   "name": "python",
   "nbconvert_exporter": "python",
   "pygments_lexer": "ipython3",
   "version": "3.13.5"
  }
 },
 "nbformat": 4,
 "nbformat_minor": 5
}

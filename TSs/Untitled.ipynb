{
 "cells": [
  {
   "cell_type": "code",
   "execution_count": null,
   "id": "660f68c0-ad45-4d62-8db6-f9e85b6fd561",
   "metadata": {},
   "outputs": [],
   "source": []
  }
 ],
 "metadata": {
  "kernelspec": {
   "display_name": "",
   "name": ""
  },
  "language_info": {
   "name": ""
  }
 },
 "nbformat": 4,
 "nbformat_minor": 5
}

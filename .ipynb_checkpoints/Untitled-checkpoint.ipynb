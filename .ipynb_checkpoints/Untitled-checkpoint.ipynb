{
 "cells": [
  {
   "cell_type": "markdown",
   "id": "39626cf6-f790-4cfa-8ed1-7da4d5048660",
   "metadata": {},
   "source": [
    "# Síntesis de Señales"
   ]
  },
  {
   "cell_type": "markdown",
   "id": "9cac7437-f0e3-415d-8670-a122400817e8",
   "metadata": {},
   "source": [
    "## Introducción"
   ]
  },
  {
   "cell_type": "markdown",
   "id": "96d51000-3446-48e8-b7ce-b3e2b1e4165d",
   "metadata": {},
   "source": [
    "En este trabajo se generaron y graficaron distintos tipos de señales en tiempo discreto, se estudiaron sus características principales y la relación que existe entre ellas a través de temas como la ortogonalidad y correlación/autocorrelación.       "
   ]
  },
  {
   "cell_type": "markdown",
   "id": "1b611689-ca99-403b-9fcb-eab363a06af1",
   "metadata": {},
   "source": [
    "### Tipos de Señales\n",
    "\n",
    "**Señal sinusoidal:**\n",
    "    Una señal sinusoidal es una onda $2\\pi$ periódica sintetizada por la función matemática del seno. Tiene una forma suave y continua, oscilando entre valores positivos y negativos de manera regular con una apmplitud fija. Esta señal puede ser amplificada al aumentar su amplitud y tambien desfasada en el eje x al sumar una fase en radianes dento de su argumento."
   ]
  },
  {
   "cell_type": "markdown",
   "id": "405b09c0-9c79-467b-a303-43d427e43dc3",
   "metadata": {},
   "source": [
    " Una señal senoidal tiene la forma siguiente:\n",
    "$$X(t)=A.sen(\\omega_0.t + \\phi)$$"
   ]
  },
  {
   "cell_type": "markdown",
   "id": "2f64ab3d-7ee1-462a-9ade-8c4b4c536f9c",
   "metadata": {},
   "source": [
    "Siendo:\n",
    "- A: La amplitud de la señal\n",
    "- $\\omega_0:$ La frecuencia de la señal en $rad/s$ ($2\\pi.f_0$ para Hz)\n",
    "- t: El tiempo\n",
    "- $\\phi:$ El desfase"
   ]
  },
  {
   "cell_type": "markdown",
   "id": "d0d5a6c8-a59a-4678-9736-4247dc9ccf50",
   "metadata": {},
   "source": [
    "**Señal modulada en amplitud:** La modulación consiste en variar algún parámetro (en este c aso, amplitud) de una señal portadora en función de otra señal llamada moduladora. En el caso de este TS, la amplitud de una senoidal de 2 kHz se hizo variar con otra senoidal de la mitad de su frecuencia. Esto es la base de la transmisión de información en radiofrecuencia.\n",
    "Esto es muy usado en radios AM por ejemplo, se utiliza una señal portadora de alta frecuencia para poder transmitir una señal moduladora de baja frecuencia (como el audio) ya que las señales de alta frecuencia pueden propagarse más lejos que las de baja frecuencia.                               La señal moduladora como que se superpone a la portadora, esto hace que la amplitud de la señal portadora varíe de acuerdo a una envolvente que tiene la misma forma que la señal moduladora. "
   ]
  },
  {
   "cell_type": "markdown",
   "id": "9ea22008-e820-4ec7-a920-e04d629fbea7",
   "metadata": {},
   "source": [
    "Una señal modulada puede verse de la asiguiente forma:\n",
    "$$m(t)=[1+k.x(t)].y(t)$$"
   ]
  },
  {
   "cell_type": "markdown",
   "id": "e93f3e46-ec38-433b-a662-a22cc83e7244",
   "metadata": {},
   "source": [
    "Siendo:\n",
    "- $k:$ El índice de modulación (qué tanto \"pesa\" la moduladora)\n",
    "- x(t): La señal moduladora\n",
    "- y(t): La señal portadora"
   ]
  },
  {
   "cell_type": "markdown",
   "id": "f863586d-45ee-4fcd-b435-d081e0b2f5a5",
   "metadata": {},
   "source": [
    "**Señal recortada:** El recorte de una señal es una forma de distorsión donde la amplitud de esta se limita para bajar su potencia neta. Este proceso aparece en sistemas saturados y es útil para estudiar no linealidades.Un ejemplo comun puede ser cuando un amplificador no puede manejar voltajes más altos y la señal es cortada en su pico superior o inferior."
   ]
  },
  {
   "cell_type": "markdown",
   "id": "6f1da5cc-dfe0-4115-b4b1-c78c73d401f8",
   "metadata": {},
   "source": [
    "**Señal cuadrada:** Es una señal binaria periódica que alterna abruptamente (sin puntos suaves) entre dos niveles de voltaje. Tiene un *duty cicle* qu es la proporción del tiempo que la señal permanece en su nivel alto en relación con el período completo. La señal está compuesta por una onda sinusoidal fundamental a la misma frecuencia, junto con una serie infinita de armónicos impares (múltiplos impares de la frecuencia fundamental) con amplitudes decrecientes. "
   ]
  },
  {
   "cell_type": "markdown",
   "id": "37f3dea5-ccba-4a80-aae8-e3ad47214918",
   "metadata": {},
   "source": [
    "Una señal cuadrada puede describirse de varias formas:"
   ]
  },
  {
   "cell_type": "markdown",
   "id": "22c16a60-c72e-4551-aadf-7aeb767479d2",
   "metadata": {},
   "source": [
    "Por tramos:\n",
    "\n",
    "$$\n",
    "x(t) =\n",
    "\\begin{cases}\n",
    "A, & 0 \\leq t < \\tfrac{T}{2} \\\\\n",
    "- A, & \\tfrac{T}{2} \\leq t < T\n",
    "\\end{cases}\n",
    "\\quad \\text{con periodo } T\n",
    "$$\n",
    "Siendo:\n",
    "- A: La amplitud\n",
    "- T: El periodo\n",
    "- La frecuencia $f= \\frac{1}{T}$ "
   ]
  },
  {
   "cell_type": "markdown",
   "id": "5fa52e75-1558-4838-a134-1268c5c59252",
   "metadata": {},
   "source": [
    "Utilizando la función \"signo\" del coseno: \n",
    "$$x(t) = A \\cdot \\operatorname{sgn}\\!\\big(\\cos(2 \\pi f t)\\big)$$"
   ]
  },
  {
   "cell_type": "markdown",
   "id": "a8dbcced-ef1a-4992-89e8-fb081ef6b7b2",
   "metadata": {},
   "source": [
    "Como suma de infinitas senoidales impares:\n",
    "$$x(t) = \\frac{4.A}{\\pi} \\sum_{k=1,3,5,\\dots}^{\\infty} \n",
    "\\frac{1}{k} \\, \\sin(2 \\pi k f t)$$\n",
    "Esto muestra que la señal contiene una fundamental de frecuencia y armónicos imparesque le dan su forma cuadrada."
   ]
  },
  {
   "cell_type": "markdown",
   "id": "a75bbe90-b83e-4770-8975-a394dd84b9fb",
   "metadata": {},
   "source": [
    "**Pulso rectangular:**\n",
    "Es una señal que vale un nivel constante durante un tiempo finito y luego vuelve a cero. Se usa mucho para representar transmisiones digitales (bits) y para estudiar la respuesta de sistemas en tiempo y frecuencia."
   ]
  },
  {
   "cell_type": "markdown",
   "id": "782f4a0c-ca1d-48e3-966f-9c103134989b",
   "metadata": {},
   "source": [
    "Un pulso rectangular puede tener la siguiente forma:\n",
    "$$x(t) =\n",
    "\\begin{cases}\n",
    "A, & |t| < \\tfrac{T}{2} \\\\\n",
    "0, & |t| \\geq \\tfrac{T}{2}\n",
    "\\end{cases}$$"
   ]
  },
  {
   "cell_type": "markdown",
   "id": "6d50d592-5a09-4996-b1ed-ee8c5016ab73",
   "metadata": {},
   "source": [
    "### Ortogonalidad"
   ]
  },
  {
   "cell_type": "markdown",
   "id": "76427fbf-6616-428b-b847-36fa06175e3d",
   "metadata": {},
   "source": [
    "Dos señales son ortogonales si su producto interno (integral para continua o suma del producto para discreta) es cero, esto significa que no comparten información común.\n",
    "$$\\sum_{n=0}^{N-1} x[n]\\,y[n] = 0$$\n",
    "La ortogonalidad permite que un receptor identifique y recupere cada señal por separado, sin interferencia de las otras señales presentes en el mismo canal.                                                                                                                                                 Si dos señales son ortogonales indica que no están correlacionadas entre sí. (la correlacion se explica debajo)"
   ]
  },
  {
   "cell_type": "markdown",
   "id": "3dc49b4e-4e66-4d23-978c-cdebb435014e",
   "metadata": {},
   "source": [
    "### Correlación y Autocorrelación"
   ]
  },
  {
   "cell_type": "markdown",
   "id": "783d22c5-6281-415f-bd1d-39d45c09221c",
   "metadata": {},
   "source": [
    "La correlación mide el grado de similitud entre dos señales cuando una tiene un cierto desfase (retraso/adelanto) entre ellas. Si dos señales son muy parecidas, la correlación cruzada muestra un máximo alto y si sonnmuy distintas la correlacion da casi 0.\n",
    "$$\n",
    "R_{xy}[k] = \\sum_{n=0}^{N-1} x[n]\\,y[n+k]$$\n",
    "\n",
    "- Con $k$ siendo el desfasaje"
   ]
  },
  {
   "cell_type": "markdown",
   "id": "4f0428e1-6daf-474e-ae55-ca3fb8b78e0e",
   "metadata": {},
   "source": [
    "La autocorrelacion es cuando se hace la correlación con dos señales idénticas (es decir, consigo misma) pero una desplazada en el tiempo. Sirve para medir la periodicidad, si la señal es periódica, la autocorrelación va a mostrar picos repetidos en múltiplos de su período. Tambien sirve para medir la energía de la señal, El valor máximo de la autocorrelación siempre ocurre en $k=0$ y es igual a la energía total de la señal.\n",
    "$$\n",
    "R_{xx}[0] = \\sum_{n=0}^{N-1} x[n]^2\n",
    "$$\n",
    "Esto se usa para medir potencia/energía en teoría de señales. Si hay correlacion ente dos señales, entonces estas no tienen producto interno nulo (no son ortogonales)."
   ]
  },
  {
   "cell_type": "markdown",
   "id": "8de26937-e486-4383-927d-a80787f0e3fa",
   "metadata": {},
   "source": [
    "## Análisis y Desarrollo"
   ]
  },
  {
   "cell_type": "markdown",
   "id": "4491d604-27d7-4752-a1eb-2cbf2e940a9d",
   "metadata": {},
   "source": [
    "### 1) Sintetizar y Graficar"
   ]
  },
  {
   "cell_type": "code",
   "execution_count": null,
   "id": "28d5b99d-2051-41d2-b908-b515c456ce0d",
   "metadata": {},
   "outputs": [],
   "source": []
  },
  {
   "cell_type": "markdown",
   "id": "38fc4053-b685-4a08-a10f-ea7b5c0461e8",
   "metadata": {},
   "source": [
    "### 2) Verificación de ortogonalidad entre la primera señal y las demás"
   ]
  },
  {
   "cell_type": "code",
   "execution_count": null,
   "id": "74605015-187f-4d0d-8b6f-f16bf2bfb435",
   "metadata": {},
   "outputs": [],
   "source": []
  },
  {
   "cell_type": "markdown",
   "id": "fcfbbbc0-624f-4aec-90db-f4e818227c7c",
   "metadata": {},
   "source": [
    "### 3) Grafico de la autocorrelación de la primera señal y la correlación entre esa y las demás"
   ]
  },
  {
   "cell_type": "code",
   "execution_count": null,
   "id": "8a9a7502-022b-4166-b879-c6d3451f5cc4",
   "metadata": {},
   "outputs": [],
   "source": []
  },
  {
   "cell_type": "markdown",
   "id": "5a435de8-3deb-4c05-8e82-783bee20bbe8",
   "metadata": {},
   "source": [
    "### 4) Demostración de propiedad tigonométrica:"
   ]
  },
  {
   "cell_type": "markdown",
   "id": "0d12000d-7393-475f-8298-abf51666e35b",
   "metadata": {},
   "source": [
    "Debo demostrar la igualdad\n",
    "$$2.sen(\\alpha).sen(\\beta)=cos(\\alpha-\\beta)-cos(\\alpha+\\beta)$$"
   ]
  },
  {
   "cell_type": "markdown",
   "id": "0a0efb3b-00be-4b77-842c-e1ef930014cc",
   "metadata": {},
   "source": [
    "Recuerdo la propiedad: ´$$cos(\\alpha-\\beta)=cos(\\alpha).cos(\\beta) + sen(\\alpha)sen(\\beta)$$\n",
    "$$cos(\\alpha+\\beta)=cos(\\alpha).cos(\\beta) - sen(\\alpha)sen(\\beta)$$\n"
   ]
  },
  {
   "cell_type": "markdown",
   "id": "83350317-5588-4d7a-9ab9-838b96157925",
   "metadata": {},
   "source": [
    "Entonces:\n",
    "$$cos(\\alpha-\\beta)-cos(\\alpha+\\beta)=\\cancel{cos(\\alpha).cos(\\beta)} + sen(\\alpha)sen(\\beta) \\cancel{- cos(\\alpha).cos(\\beta)} + sen(\\alpha)sen(\\beta)$$\n",
    "$$cos(\\alpha-\\beta)-cos(\\alpha+\\beta)=2.sen(\\alpha).sen(\\beta) \\checkmark$$\n"
   ]
  },
  {
   "cell_type": "markdown",
   "id": "3d6fb4ba-275c-4222-9e44-224be779e4b3",
   "metadata": {},
   "source": [
    "### Bonus:"
   ]
  },
  {
   "cell_type": "code",
   "execution_count": null,
   "id": "bbd95204-e0f1-4a99-84ba-2f177accb831",
   "metadata": {},
   "outputs": [],
   "source": []
  },
  {
   "cell_type": "markdown",
   "id": "49c17325-557a-4db1-a1b3-e63ffeac53b6",
   "metadata": {},
   "source": [
    "## Conclusiones:"
   ]
  },
  {
   "cell_type": "code",
   "execution_count": null,
   "id": "33e37df2-c2e2-4e83-b13f-e15a47a70a6c",
   "metadata": {},
   "outputs": [],
   "source": []
  },
  {
   "cell_type": "markdown",
   "id": "0595820f-7970-4336-b6b2-c980531be396",
   "metadata": {},
   "source": [
    "## Autoevaluación del Aprendizaje:"
   ]
  },
  {
   "cell_type": "markdown",
   "id": "d1b738ea-40fd-46f3-85c0-be72b05ca4ad",
   "metadata": {},
   "source": [
    "Resolví la tarea, pero tengo dudas.\n",
    "\n",
    "- ¿Qué aprendiste al hacer esta tarea? --> \n",
    "  Logré entender mejor la correlacion y ortogonalidad ya que antes de realizar el trabajo no habia lograr entender los conceptos. Por la parte de las herramientas utilizadas, aprendí muchas cosas nuevas en python y jupyter.\n",
    "- ¿Qué te quedó claro? ¿Qué te sigue costando? --> \n",
    "Me quedó en claro como amplificar, desfasar y modular señales. Aún no logro entender por completo la correlación y aún menos si debo hacer las cuentas analítiicamente (a mano).\n",
    "\n",
    "- Uso de la IA: --> \n",
    "Se utilizó bastante para poder entender como usar LaTex y Python ya que tenía 0 conocimientos al respecto. Más que nada se utilizo para saber como hacer series en LaTex (no se entendia bien en google), para graficar también ya que siempre tenia problemas con eso y por ultimo se utilizo para el bonus porque si bien ya sabia que habia una biblioteca que me podia ayudar, no lograba encontrar los nombres de las funcines que tenia que usar y también me ayudo con unos problemas que tuve al ser el sonido una onda de doble channel."
   ]
  },
  {
   "cell_type": "code",
   "execution_count": null,
   "id": "e4e3ae3e-1a90-45b0-91e4-f25ca8fd5d99",
   "metadata": {},
   "outputs": [],
   "source": []
  }
 ],
 "metadata": {
  "kernelspec": {
   "display_name": "Python 3 (ipykernel)",
   "language": "python",
   "name": "python3"
  },
  "language_info": {
   "codemirror_mode": {
    "name": "ipython",
    "version": 3
   },
   "file_extension": ".py",
   "mimetype": "text/x-python",
   "name": "python",
   "nbconvert_exporter": "python",
   "pygments_lexer": "ipython3",
   "version": "3.13.5"
  }
 },
 "nbformat": 4,
 "nbformat_minor": 5
}
